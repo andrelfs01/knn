{
  "nbformat": 4,
  "nbformat_minor": 0,
  "metadata": {
    "kernelspec": {
      "display_name": "Python 3",
      "language": "python",
      "name": "python3"
    },
    "language_info": {
      "codemirror_mode": {
        "name": "ipython",
        "version": 3
      },
      "file_extension": ".py",
      "mimetype": "text/x-python",
      "name": "python",
      "nbconvert_exporter": "python",
      "pygments_lexer": "ipython3",
      "version": "3.6.9"
    },
    "colab": {
      "name": "KNN.ipynb",
      "provenance": [],
      "toc_visible": true
    }
  },
  "cells": [
    {
      "cell_type": "markdown",
      "metadata": {
        "id": "3hOQcx9AqY6h",
        "colab_type": "text"
      },
      "source": [
        "# data set \n",
        "Foi pego no uci, convertido para csv com auxilio de script\n"
      ]
    },
    {
      "cell_type": "code",
      "metadata": {
        "id": "Vz-QwyedqY6i",
        "colab_type": "code",
        "colab": {}
      },
      "source": [
        "import pandas as pd\n",
        "import numpy as np\n",
        "from sklearn.neighbors import KNeighborsClassifier\n",
        "from sklearn.model_selection import train_test_split\n",
        "from sklearn import metrics\n",
        "from sklearn.model_selection import KFold\n",
        "from statistics import mean \n",
        "from collections import Counter\n",
        "from sklearn.metrics import confusion_matrix\n"
      ],
      "execution_count": 0,
      "outputs": []
    },
    {
      "cell_type": "code",
      "metadata": {
        "id": "NfxPY2K6qY6n",
        "colab_type": "code",
        "colab": {}
      },
      "source": [
        "headers = list(pd.read_csv(\"EGG_EyeStateHeaders.csv\") )"
      ],
      "execution_count": 0,
      "outputs": []
    },
    {
      "cell_type": "code",
      "metadata": {
        "id": "xWdhADKlqY6s",
        "colab_type": "code",
        "colab": {
          "base_uri": "https://localhost:8080/",
          "height": 204
        },
        "outputId": "ba6e86a9-2134-4c15-c00a-cdf0be049b58"
      },
      "source": [
        "data = pd.read_csv(\"EEG_EyeState.csv\", names=headers, index_col=False, skiprows = [0]) \n",
        "# Preview the first 5 lines of the loaded data \n",
        "data.head()"
      ],
      "execution_count": 4,
      "outputs": [
        {
          "output_type": "execute_result",
          "data": {
            "text/html": [
              "<div>\n",
              "<style scoped>\n",
              "    .dataframe tbody tr th:only-of-type {\n",
              "        vertical-align: middle;\n",
              "    }\n",
              "\n",
              "    .dataframe tbody tr th {\n",
              "        vertical-align: top;\n",
              "    }\n",
              "\n",
              "    .dataframe thead th {\n",
              "        text-align: right;\n",
              "    }\n",
              "</style>\n",
              "<table border=\"1\" class=\"dataframe\">\n",
              "  <thead>\n",
              "    <tr style=\"text-align: right;\">\n",
              "      <th></th>\n",
              "      <th>AF3</th>\n",
              "      <th>F7</th>\n",
              "      <th>F3</th>\n",
              "      <th>FC5</th>\n",
              "      <th>T7</th>\n",
              "      <th>P7</th>\n",
              "      <th>O1</th>\n",
              "      <th>O2</th>\n",
              "      <th>P8</th>\n",
              "      <th>T8</th>\n",
              "      <th>FC6</th>\n",
              "      <th>F4</th>\n",
              "      <th>F8</th>\n",
              "      <th>AF4</th>\n",
              "      <th>eyeDetection</th>\n",
              "    </tr>\n",
              "  </thead>\n",
              "  <tbody>\n",
              "    <tr>\n",
              "      <th>0</th>\n",
              "      <td>4329.23</td>\n",
              "      <td>4009.23</td>\n",
              "      <td>4289.23</td>\n",
              "      <td>4148.21</td>\n",
              "      <td>4350.26</td>\n",
              "      <td>4586.15</td>\n",
              "      <td>4096.92</td>\n",
              "      <td>4641.03</td>\n",
              "      <td>4222.05</td>\n",
              "      <td>4238.46</td>\n",
              "      <td>4211.28</td>\n",
              "      <td>4280.51</td>\n",
              "      <td>4635.90</td>\n",
              "      <td>4393.85</td>\n",
              "      <td>0</td>\n",
              "    </tr>\n",
              "    <tr>\n",
              "      <th>1</th>\n",
              "      <td>4324.62</td>\n",
              "      <td>4004.62</td>\n",
              "      <td>4293.85</td>\n",
              "      <td>4148.72</td>\n",
              "      <td>4342.05</td>\n",
              "      <td>4586.67</td>\n",
              "      <td>4097.44</td>\n",
              "      <td>4638.97</td>\n",
              "      <td>4210.77</td>\n",
              "      <td>4226.67</td>\n",
              "      <td>4207.69</td>\n",
              "      <td>4279.49</td>\n",
              "      <td>4632.82</td>\n",
              "      <td>4384.10</td>\n",
              "      <td>0</td>\n",
              "    </tr>\n",
              "    <tr>\n",
              "      <th>2</th>\n",
              "      <td>4327.69</td>\n",
              "      <td>4006.67</td>\n",
              "      <td>4295.38</td>\n",
              "      <td>4156.41</td>\n",
              "      <td>4336.92</td>\n",
              "      <td>4583.59</td>\n",
              "      <td>4096.92</td>\n",
              "      <td>4630.26</td>\n",
              "      <td>4207.69</td>\n",
              "      <td>4222.05</td>\n",
              "      <td>4206.67</td>\n",
              "      <td>4282.05</td>\n",
              "      <td>4628.72</td>\n",
              "      <td>4389.23</td>\n",
              "      <td>0</td>\n",
              "    </tr>\n",
              "    <tr>\n",
              "      <th>3</th>\n",
              "      <td>4328.72</td>\n",
              "      <td>4011.79</td>\n",
              "      <td>4296.41</td>\n",
              "      <td>4155.90</td>\n",
              "      <td>4343.59</td>\n",
              "      <td>4582.56</td>\n",
              "      <td>4097.44</td>\n",
              "      <td>4630.77</td>\n",
              "      <td>4217.44</td>\n",
              "      <td>4235.38</td>\n",
              "      <td>4210.77</td>\n",
              "      <td>4287.69</td>\n",
              "      <td>4632.31</td>\n",
              "      <td>4396.41</td>\n",
              "      <td>0</td>\n",
              "    </tr>\n",
              "    <tr>\n",
              "      <th>4</th>\n",
              "      <td>4326.15</td>\n",
              "      <td>4011.79</td>\n",
              "      <td>4292.31</td>\n",
              "      <td>4151.28</td>\n",
              "      <td>4347.69</td>\n",
              "      <td>4586.67</td>\n",
              "      <td>4095.90</td>\n",
              "      <td>4627.69</td>\n",
              "      <td>4210.77</td>\n",
              "      <td>4244.10</td>\n",
              "      <td>4212.82</td>\n",
              "      <td>4288.21</td>\n",
              "      <td>4632.82</td>\n",
              "      <td>4398.46</td>\n",
              "      <td>0</td>\n",
              "    </tr>\n",
              "  </tbody>\n",
              "</table>\n",
              "</div>"
            ],
            "text/plain": [
              "       AF3       F7       F3      FC5  ...       F4       F8      AF4  eyeDetection\n",
              "0  4329.23  4009.23  4289.23  4148.21  ...  4280.51  4635.90  4393.85             0\n",
              "1  4324.62  4004.62  4293.85  4148.72  ...  4279.49  4632.82  4384.10             0\n",
              "2  4327.69  4006.67  4295.38  4156.41  ...  4282.05  4628.72  4389.23             0\n",
              "3  4328.72  4011.79  4296.41  4155.90  ...  4287.69  4632.31  4396.41             0\n",
              "4  4326.15  4011.79  4292.31  4151.28  ...  4288.21  4632.82  4398.46             0\n",
              "\n",
              "[5 rows x 15 columns]"
            ]
          },
          "metadata": {
            "tags": []
          },
          "execution_count": 4
        }
      ]
    },
    {
      "cell_type": "code",
      "metadata": {
        "id": "yh7zvRKTqY6x",
        "colab_type": "code",
        "colab": {}
      },
      "source": [
        "X_train, X_test, y_train, y_test = train_test_split(data, data.eyeDetection, test_size=0.3)                                                    \n",
        "X_train = X_train.drop(\"eyeDetection\", axis=1)\n",
        "X_test = X_test.drop(\"eyeDetection\", axis=1)"
      ],
      "execution_count": 0,
      "outputs": []
    },
    {
      "cell_type": "code",
      "metadata": {
        "id": "XMEBzIJIqY62",
        "colab_type": "code",
        "colab": {}
      },
      "source": [
        "# print(X_train)\n",
        "# print(X_test)\n",
        "# print(y_train)\n",
        "# print(y_test)"
      ],
      "execution_count": 0,
      "outputs": []
    },
    {
      "cell_type": "markdown",
      "metadata": {
        "id": "T7Ujp00tqY67",
        "colab_type": "text"
      },
      "source": [
        "Algoritmo diferente para a harmonica"
      ]
    },
    {
      "cell_type": "code",
      "metadata": {
        "id": "17VZOmN0qY68",
        "colab_type": "code",
        "colab": {}
      },
      "source": [
        "from scipy.spatial import distance as dist_lib\n",
        "def euclidean(instance1, instance2):\n",
        "    return dist_lib.euclidean(instance1, instance2)\n",
        "\n",
        "def canberra(instance1, instance2):\n",
        "    return dist_lib.canberra(instance1, instance2)\n",
        "\n",
        "def chebyshev(instance1, instance2):\n",
        "    return dist_lib.chebyshev(instance1, instance2)\n",
        "\n",
        "def correlation(instance1, instance2):\n",
        "    return dist_lib.correlation(instance1, instance2)\n",
        "\n",
        "def cosine(instance1, instance2):\n",
        "    return dist_lib.cosine(instance1, instance2)"
      ],
      "execution_count": 0,
      "outputs": []
    },
    {
      "cell_type": "code",
      "metadata": {
        "id": "r7rxzfHAqY7A",
        "colab_type": "code",
        "colab": {}
      },
      "source": [
        "def get_neighbors(training_set, \n",
        "                  labels, \n",
        "                  test_instance, \n",
        "                  k, \n",
        "                  distance):\n",
        "    \"\"\"\n",
        "    get_neighors calculates a list of the k nearest neighbors\n",
        "    of an instance 'test_instance'.\n",
        "    The list neighbors contains 3-tuples with  \n",
        "    (index, dist, label),\n",
        "    where:\n",
        "    index    is the index from the training_set, \n",
        "    dist     is the distance between the test_instance \n",
        "             and the instance training_set[index]\n",
        "    distance is a reference to a function used to calculate the \n",
        "             distances\n",
        "    \"\"\"\n",
        "    distances = []\n",
        "    for index, row in training_set.iterrows():\n",
        "        dist = distance(test_instance, row)\n",
        "        distances.append((row, dist, labels[index]))\n",
        "    distances.sort(key=lambda x: x[1])\n",
        "    neighbors = distances[:k]\n",
        "    return neighbors\n",
        "\n",
        "\n",
        "            \n",
        "def vote_harmonic_weights(neighbors, all_results=True):\n",
        "    class_counter = Counter()\n",
        "    number_of_neighbors = len(neighbors)\n",
        "    \n",
        "    # para cada classe, somam-se os inversos de suas ordens\n",
        "    for index in range(number_of_neighbors):\n",
        "        class_counter[neighbors[index][2]] += 1/(index+1)\n",
        "    labels, votes = zip(*class_counter.most_common())\n",
        "    winner = class_counter.most_common(1)[0][0]\n",
        "    votes4winner = class_counter.most_common(1)[0][1]\n",
        "    if all_results:\n",
        "        total = sum(class_counter.values(), 0.0)\n",
        "        for key in class_counter:\n",
        "             class_counter[key] /= total\n",
        "        return winner, class_counter.most_common()\n",
        "    else:\n",
        "        return winner, votes4winner / sum(votes)\n",
        "    \n",
        "def knn_test_harmonic(trainset_data, trainset_labels, testset_data, knn_k, distance_function):\n",
        "    print(testset_data.shape[0])\n",
        "    count_row = 0\n",
        "    df_prediction = pd.DataFrame(columns=['class'])\n",
        "    for index, row in testset_data.iterrows():\n",
        "        neighbors = get_neighbors(trainset_data, \n",
        "                                  trainset_labels, \n",
        "                                  row, \n",
        "                                  knn_k, \n",
        "                                  distance=distance_function)\n",
        "        #print(vote_harmonic_weights(neighbors, all_results=True))\n",
        "        predited_class = vote_harmonic_weights(neighbors, all_results=True)[0]\n",
        "        df_prediction.loc[index] = predited_class\n",
        "        count_row += 1\n",
        "        if (count_row % 50 == 0):\n",
        "            print(count_row, count_row/testset_data.shape[0])\n",
        "    \n",
        "    return df_prediction"
      ],
      "execution_count": 0,
      "outputs": []
    },
    {
      "cell_type": "code",
      "metadata": {
        "id": "WL0NKKOuqY7F",
        "colab_type": "code",
        "colab": {}
      },
      "source": [
        "weights = [#'uniform', 'distance', \n",
        "    'harmonic']\n",
        "\n",
        "distances = ['canberra', 'chebyshev', 'correlation', 'euclidean','cosine' ] #'mahalanobis'\n",
        "V = np.cov(X_train)"
      ],
      "execution_count": 0,
      "outputs": []
    },
    {
      "cell_type": "code",
      "metadata": {
        "id": "vwJ9gVQCqY7J",
        "colab_type": "code",
        "colab": {}
      },
      "source": [
        "def cross_validation(knn_k, distance, weight_function):\n",
        "    if (weight_function == 'harmonic'):\n",
        "        kf = KFold(n_splits= 5, shuffle=True)\n",
        "        accs = []\n",
        "        for train_index, test_index in kf.split(X_train):\n",
        "            fold_x_train, fold_x_test = X_train[X_train.index.isin(train_index)], X_train[X_train.index.isin(test_index)]\n",
        "            fold_y_train, fold_y_test = y_train[y_train.index.isin(train_index)], y_train[y_train.index.isin(test_index)]\n",
        "                \n",
        "            print(\"Treino: \" + str(X_train.shape[0]) + \", fold_treino: \" + str(fold_x_train.shape[0]) + \", fold_test: \"+ str(fold_x_test.shape[0]))\n",
        "            \n",
        "            #Train the model using the training sets\n",
        "            if (distance == 'canberra'):\n",
        "                fold_y_pred = knn_test_harmonic(fold_x_train, fold_y_train, fold_x_test, knn_k, canberra)\n",
        "            elif (distance == 'chebyshev'):\n",
        "                fold_y_pred = knn_test_harmonic(fold_x_train, fold_y_train, fold_x_test, knn_k, euclidean)\n",
        "            elif (distance == 'correlation'):\n",
        "                fold_y_pred = knn_test_harmonic(fold_x_train, fold_y_train, fold_x_test, knn_k, euclidean)\n",
        "            elif (distance == 'euclidean'):\n",
        "                fold_y_pred = knn_test_harmonic(fold_x_train, fold_y_train, fold_x_test, knn_k, euclidean)\n",
        "            elif (distance == 'cosine'):\n",
        "                fold_y_pred = knn_test_harmonic(fold_x_train, fold_y_train, fold_x_test, knn_k, euclidean)\n",
        "                \n",
        "            acc = metrics.accuracy_score(fold_y_test, fold_y_pred['class'].astype('int32'))\n",
        "            # Model Accuracy, how often is the classifier correct?\n",
        "            print(\"Accuracy:\", acc)\n",
        "            accs.append(acc)\n",
        "            cm = confusion_matrix(fold_y_test, fold_y_pred['class'].astype('int32'))\n",
        "            print(cm)\n",
        "        \n",
        "        return [knn_k, distance, weight_function, mean(accs)]\n",
        "            \n",
        "    else:\n",
        "        #Create KNN Classifier\n",
        "        if distance == 'mahalanobis':\n",
        "            knn = KNeighborsClassifier(n_neighbors=knn_k, metric=distance, weights = weight_function, metric_params={'V': V})\n",
        "        else:\n",
        "            knn = KNeighborsClassifier(n_neighbors=knn_k, metric=distance, weights = weight_function)\n",
        "\n",
        "        kf = KFold(n_splits= 5, shuffle=True)\n",
        "        accs = []\n",
        "        for train_index, test_index in kf.split(X_train):\n",
        "            fold_x_train, fold_x_test = X_train[X_train.index.isin(train_index)], X_train[X_train.index.isin(test_index)]\n",
        "            fold_y_train, fold_y_test = y_train[y_train.index.isin(train_index)], y_train[y_train.index.isin(test_index)]\n",
        "            #Train the model using the training sets\n",
        "            knn.fit(fold_x_train, fold_y_train)\n",
        "\n",
        "            #Predict the response for test dataset\n",
        "            fold_y_pred = knn.predict(fold_x_test)\n",
        "\n",
        "            acc = metrics.accuracy_score(fold_y_test, fold_y_pred)\n",
        "            # Model Accuracy, how often is the classifier correct?\n",
        "            print(\"Accuracy:\", acc)\n",
        "            accs.append(acc)\n",
        "            cm = confusion_matrix(y_test, y_pred)\n",
        "    \n",
        "        return [knn_k, distance, weight_function, mean(accs)]"
      ],
      "execution_count": 0,
      "outputs": []
    },
    {
      "cell_type": "code",
      "metadata": {
        "id": "8v0MagTIqY7N",
        "colab_type": "code",
        "colab": {}
      },
      "source": [
        "def test(knn_k, distance, weight_function):\n",
        "    #Create KNN Classifier\n",
        "    if distance == 'mahalanobis':\n",
        "        knn = KNeighborsClassifier(n_neighbors=knn_k, metric=distance, weights = weight_function, metric_params={'V': V})\n",
        "    else:\n",
        "        knn = KNeighborsClassifier(n_neighbors=knn_k, metric=distance, weights = weight_function)\n",
        "\n",
        "    #Train the model using the training sets\n",
        "    knn.fit(X_train, y_train)\n",
        "\n",
        "    #Predict the response for test dataset\n",
        "    y_pred = knn.predict(X_test)\n",
        "\n",
        "    cm_test = confusion_matrix(y_test, y_pred)\n",
        "\n",
        "    # Model Accuracy, how often is the classifier correct?\n",
        "    print(\"Accuracy:\",metrics.accuracy_score(y_test, y_pred))"
      ],
      "execution_count": 0,
      "outputs": []
    },
    {
      "cell_type": "code",
      "metadata": {
        "id": "JMgBudq0qY7R",
        "colab_type": "code",
        "colab": {}
      },
      "source": [
        "def select_bests_params(results):\n",
        "    df_results = pd.DataFrame(results)\n",
        "    return df_results.sort_values([3],  ascending=[0])"
      ],
      "execution_count": 0,
      "outputs": []
    },
    {
      "cell_type": "code",
      "metadata": {
        "id": "09gDru5aqY7V",
        "colab_type": "code",
        "colab": {
          "base_uri": "https://localhost:8080/",
          "height": 911
        },
        "outputId": "b0da1804-c305-4998-d265-9ca57c081bfe"
      },
      "source": [
        "results = []\n",
        "for weight_function in weights:\n",
        "    for knn_k in range(1,5,2):\n",
        "        for distance in distances:\n",
        "            print(\"Função: {} - distancia: {} - K: {}\".format(weight_function,distance, 5))\n",
        "            results.append(cross_validation(knn_k, distance, weight_function))\n",
        "\n",
        "ranking = select_bests_params(results)\n",
        "print(ranking)"
      ],
      "execution_count": 14,
      "outputs": [
        {
          "output_type": "stream",
          "text": [
            "Função: harmonic - distancia: canberra - K: 5\n",
            "Treino: 10486, fold_treino: 5856, fold_test: 1489\n",
            "1489\n",
            "50 0.0335795836131632\n",
            "100 0.0671591672263264\n",
            "150 0.10073875083948959\n",
            "200 0.1343183344526528\n",
            "250 0.16789791806581597\n",
            "300 0.20147750167897918\n",
            "350 0.23505708529214236\n",
            "400 0.2686366689053056\n",
            "450 0.3022162525184688\n",
            "500 0.33579583613163194\n",
            "550 0.36937541974479515\n",
            "600 0.40295500335795836\n",
            "650 0.4365345869711216\n",
            "700 0.47011417058428473\n",
            "750 0.503693754197448\n",
            "800 0.5372733378106112\n",
            "850 0.5708529214237743\n",
            "900 0.6044325050369376\n",
            "950 0.6380120886501007\n",
            "1000 0.6715916722632639\n",
            "1050 0.7051712558764271\n",
            "1100 0.7387508394895903\n",
            "1150 0.7723304231027536\n",
            "1200 0.8059100067159167\n",
            "1250 0.8394895903290799\n",
            "1300 0.8730691739422431\n",
            "1350 0.9066487575554063\n",
            "1400 0.9402283411685695\n",
            "1450 0.9738079247817327\n",
            "Accuracy: 0.9597044996642041\n"
          ],
          "name": "stdout"
        },
        {
          "output_type": "error",
          "ename": "NameError",
          "evalue": "ignored",
          "traceback": [
            "\u001b[0;31m---------------------------------------------------------------------------\u001b[0m",
            "\u001b[0;31mNameError\u001b[0m                                 Traceback (most recent call last)",
            "\u001b[0;32m<ipython-input-14-60e97b74fff9>\u001b[0m in \u001b[0;36m<module>\u001b[0;34m()\u001b[0m\n\u001b[1;32m      4\u001b[0m         \u001b[0;32mfor\u001b[0m \u001b[0mdistance\u001b[0m \u001b[0;32min\u001b[0m \u001b[0mdistances\u001b[0m\u001b[0;34m:\u001b[0m\u001b[0;34m\u001b[0m\u001b[0;34m\u001b[0m\u001b[0m\n\u001b[1;32m      5\u001b[0m             \u001b[0mprint\u001b[0m\u001b[0;34m(\u001b[0m\u001b[0;34m\"Função: {} - distancia: {} - K: {}\"\u001b[0m\u001b[0;34m.\u001b[0m\u001b[0mformat\u001b[0m\u001b[0;34m(\u001b[0m\u001b[0mweight_function\u001b[0m\u001b[0;34m,\u001b[0m\u001b[0mdistance\u001b[0m\u001b[0;34m,\u001b[0m \u001b[0;36m5\u001b[0m\u001b[0;34m)\u001b[0m\u001b[0;34m)\u001b[0m\u001b[0;34m\u001b[0m\u001b[0;34m\u001b[0m\u001b[0m\n\u001b[0;32m----> 6\u001b[0;31m             \u001b[0mresults\u001b[0m\u001b[0;34m.\u001b[0m\u001b[0mappend\u001b[0m\u001b[0;34m(\u001b[0m\u001b[0mcross_validation\u001b[0m\u001b[0;34m(\u001b[0m\u001b[0mknn_k\u001b[0m\u001b[0;34m,\u001b[0m \u001b[0mdistance\u001b[0m\u001b[0;34m,\u001b[0m \u001b[0mweight_function\u001b[0m\u001b[0;34m)\u001b[0m\u001b[0;34m)\u001b[0m\u001b[0;34m\u001b[0m\u001b[0;34m\u001b[0m\u001b[0m\n\u001b[0m\u001b[1;32m      7\u001b[0m \u001b[0;34m\u001b[0m\u001b[0m\n\u001b[1;32m      8\u001b[0m \u001b[0mranking\u001b[0m \u001b[0;34m=\u001b[0m \u001b[0mselect_bests_params\u001b[0m\u001b[0;34m(\u001b[0m\u001b[0mresults\u001b[0m\u001b[0;34m)\u001b[0m\u001b[0;34m\u001b[0m\u001b[0;34m\u001b[0m\u001b[0m\n",
            "\u001b[0;32m<ipython-input-11-ff7f815f1753>\u001b[0m in \u001b[0;36mcross_validation\u001b[0;34m(knn_k, distance, weight_function)\u001b[0m\n\u001b[1;32m     25\u001b[0m             \u001b[0mprint\u001b[0m\u001b[0;34m(\u001b[0m\u001b[0;34m\"Accuracy:\"\u001b[0m\u001b[0;34m,\u001b[0m \u001b[0macc\u001b[0m\u001b[0;34m)\u001b[0m\u001b[0;34m\u001b[0m\u001b[0;34m\u001b[0m\u001b[0m\n\u001b[1;32m     26\u001b[0m             \u001b[0maccs\u001b[0m\u001b[0;34m.\u001b[0m\u001b[0mappend\u001b[0m\u001b[0;34m(\u001b[0m\u001b[0macc\u001b[0m\u001b[0;34m)\u001b[0m\u001b[0;34m\u001b[0m\u001b[0;34m\u001b[0m\u001b[0m\n\u001b[0;32m---> 27\u001b[0;31m             \u001b[0mcm\u001b[0m \u001b[0;34m=\u001b[0m \u001b[0mconfusion_matrix\u001b[0m\u001b[0;34m(\u001b[0m\u001b[0my_test\u001b[0m\u001b[0;34m,\u001b[0m \u001b[0my_pred\u001b[0m\u001b[0;34m)\u001b[0m\u001b[0;34m\u001b[0m\u001b[0;34m\u001b[0m\u001b[0m\n\u001b[0m\u001b[1;32m     28\u001b[0m             \u001b[0mprint\u001b[0m\u001b[0;34m(\u001b[0m\u001b[0mcm\u001b[0m\u001b[0;34m)\u001b[0m\u001b[0;34m\u001b[0m\u001b[0;34m\u001b[0m\u001b[0m\n\u001b[1;32m     29\u001b[0m \u001b[0;34m\u001b[0m\u001b[0m\n",
            "\u001b[0;31mNameError\u001b[0m: name 'y_pred' is not defined"
          ]
        }
      ]
    },
    {
      "cell_type": "code",
      "metadata": {
        "id": "Ktd7uJVVqY7Z",
        "colab_type": "code",
        "colab": {}
      },
      "source": [
        "best_knn_k, best_distance, best_weight_function, best_avg_acc = list(ranking.head(1).itertuples(index=False, name=None))[0]"
      ],
      "execution_count": 0,
      "outputs": []
    },
    {
      "cell_type": "code",
      "metadata": {
        "id": "LLA-1CAWqY7d",
        "colab_type": "code",
        "colab": {}
      },
      "source": [
        "best_knn_k, best_distance, best_weight_function"
      ],
      "execution_count": 0,
      "outputs": []
    },
    {
      "cell_type": "code",
      "metadata": {
        "id": "zLzUiIsGqY7h",
        "colab_type": "code",
        "colab": {}
      },
      "source": [
        "test(best_knn_k, best_distance, best_weight_function)"
      ],
      "execution_count": 0,
      "outputs": []
    },
    {
      "cell_type": "code",
      "metadata": {
        "id": "HVt5pBPiqY7l",
        "colab_type": "code",
        "colab": {}
      },
      "source": [
        ""
      ],
      "execution_count": 0,
      "outputs": []
    },
    {
      "cell_type": "code",
      "metadata": {
        "id": "YK9kOj7sqY7p",
        "colab_type": "code",
        "colab": {}
      },
      "source": [
        "type(y_test)\n",
        "\n",
        "#acc = metrics.accuracy_score(fold_y_test, fold_y_pred)"
      ],
      "execution_count": 0,
      "outputs": []
    },
    {
      "cell_type": "code",
      "metadata": {
        "id": "pHy9LaLIqY7t",
        "colab_type": "code",
        "colab": {}
      },
      "source": [
        ""
      ],
      "execution_count": 0,
      "outputs": []
    }
  ]
}